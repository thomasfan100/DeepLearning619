{
  "nbformat": 4,
  "nbformat_minor": 0,
  "metadata": {
    "colab": {
      "provenance": []
    },
    "kernelspec": {
      "name": "python3",
      "display_name": "Python 3"
    },
    "language_info": {
      "name": "python"
    }
  },
  "cells": [
    {
      "cell_type": "markdown",
      "source": [
        "Load the dataset, airfoil_self_noise.DAT, into memory. (Hint: This file is tab separated file.)"
      ],
      "metadata": {
        "id": "w8mC8AfBWpV0"
      }
    },
    {
      "cell_type": "code",
      "source": [
        "import pandas as pd\n",
        "df = pd.read_csv('airfoil_self_noise.dat', sep='\\t')\n",
        "df.head()"
      ],
      "metadata": {
        "id": "ppUNDLDlx12s",
        "colab": {
          "base_uri": "https://localhost:8080/",
          "height": 206
        },
        "outputId": "ccf9f458-7ed6-4048-98e4-3d60f563e3c3"
      },
      "execution_count": null,
      "outputs": [
        {
          "output_type": "execute_result",
          "data": {
            "text/plain": [
              "   Freq  Ang  ChrdLen  StreamVel  SuctionDisp  Scaled Sound Pressure Level\n",
              "0   800  0.0   0.3048       71.3     0.002663                      126.201\n",
              "1  1000  0.0   0.3048       71.3     0.002663                      125.201\n",
              "2  1250  0.0   0.3048       71.3     0.002663                      125.951\n",
              "3  1600  0.0   0.3048       71.3     0.002663                      127.591\n",
              "4  2000  0.0   0.3048       71.3     0.002663                      127.461"
            ],
            "text/html": [
              "\n",
              "  <div id=\"df-622bc4a0-d20b-43e2-a625-e5ed7ea8d8fa\">\n",
              "    <div class=\"colab-df-container\">\n",
              "      <div>\n",
              "<style scoped>\n",
              "    .dataframe tbody tr th:only-of-type {\n",
              "        vertical-align: middle;\n",
              "    }\n",
              "\n",
              "    .dataframe tbody tr th {\n",
              "        vertical-align: top;\n",
              "    }\n",
              "\n",
              "    .dataframe thead th {\n",
              "        text-align: right;\n",
              "    }\n",
              "</style>\n",
              "<table border=\"1\" class=\"dataframe\">\n",
              "  <thead>\n",
              "    <tr style=\"text-align: right;\">\n",
              "      <th></th>\n",
              "      <th>Freq</th>\n",
              "      <th>Ang</th>\n",
              "      <th>ChrdLen</th>\n",
              "      <th>StreamVel</th>\n",
              "      <th>SuctionDisp</th>\n",
              "      <th>Scaled Sound Pressure Level</th>\n",
              "    </tr>\n",
              "  </thead>\n",
              "  <tbody>\n",
              "    <tr>\n",
              "      <th>0</th>\n",
              "      <td>800</td>\n",
              "      <td>0.0</td>\n",
              "      <td>0.3048</td>\n",
              "      <td>71.3</td>\n",
              "      <td>0.002663</td>\n",
              "      <td>126.201</td>\n",
              "    </tr>\n",
              "    <tr>\n",
              "      <th>1</th>\n",
              "      <td>1000</td>\n",
              "      <td>0.0</td>\n",
              "      <td>0.3048</td>\n",
              "      <td>71.3</td>\n",
              "      <td>0.002663</td>\n",
              "      <td>125.201</td>\n",
              "    </tr>\n",
              "    <tr>\n",
              "      <th>2</th>\n",
              "      <td>1250</td>\n",
              "      <td>0.0</td>\n",
              "      <td>0.3048</td>\n",
              "      <td>71.3</td>\n",
              "      <td>0.002663</td>\n",
              "      <td>125.951</td>\n",
              "    </tr>\n",
              "    <tr>\n",
              "      <th>3</th>\n",
              "      <td>1600</td>\n",
              "      <td>0.0</td>\n",
              "      <td>0.3048</td>\n",
              "      <td>71.3</td>\n",
              "      <td>0.002663</td>\n",
              "      <td>127.591</td>\n",
              "    </tr>\n",
              "    <tr>\n",
              "      <th>4</th>\n",
              "      <td>2000</td>\n",
              "      <td>0.0</td>\n",
              "      <td>0.3048</td>\n",
              "      <td>71.3</td>\n",
              "      <td>0.002663</td>\n",
              "      <td>127.461</td>\n",
              "    </tr>\n",
              "  </tbody>\n",
              "</table>\n",
              "</div>\n",
              "      <button class=\"colab-df-convert\" onclick=\"convertToInteractive('df-622bc4a0-d20b-43e2-a625-e5ed7ea8d8fa')\"\n",
              "              title=\"Convert this dataframe to an interactive table.\"\n",
              "              style=\"display:none;\">\n",
              "        \n",
              "  <svg xmlns=\"http://www.w3.org/2000/svg\" height=\"24px\"viewBox=\"0 0 24 24\"\n",
              "       width=\"24px\">\n",
              "    <path d=\"M0 0h24v24H0V0z\" fill=\"none\"/>\n",
              "    <path d=\"M18.56 5.44l.94 2.06.94-2.06 2.06-.94-2.06-.94-.94-2.06-.94 2.06-2.06.94zm-11 1L8.5 8.5l.94-2.06 2.06-.94-2.06-.94L8.5 2.5l-.94 2.06-2.06.94zm10 10l.94 2.06.94-2.06 2.06-.94-2.06-.94-.94-2.06-.94 2.06-2.06.94z\"/><path d=\"M17.41 7.96l-1.37-1.37c-.4-.4-.92-.59-1.43-.59-.52 0-1.04.2-1.43.59L10.3 9.45l-7.72 7.72c-.78.78-.78 2.05 0 2.83L4 21.41c.39.39.9.59 1.41.59.51 0 1.02-.2 1.41-.59l7.78-7.78 2.81-2.81c.8-.78.8-2.07 0-2.86zM5.41 20L4 18.59l7.72-7.72 1.47 1.35L5.41 20z\"/>\n",
              "  </svg>\n",
              "      </button>\n",
              "      \n",
              "  <style>\n",
              "    .colab-df-container {\n",
              "      display:flex;\n",
              "      flex-wrap:wrap;\n",
              "      gap: 12px;\n",
              "    }\n",
              "\n",
              "    .colab-df-convert {\n",
              "      background-color: #E8F0FE;\n",
              "      border: none;\n",
              "      border-radius: 50%;\n",
              "      cursor: pointer;\n",
              "      display: none;\n",
              "      fill: #1967D2;\n",
              "      height: 32px;\n",
              "      padding: 0 0 0 0;\n",
              "      width: 32px;\n",
              "    }\n",
              "\n",
              "    .colab-df-convert:hover {\n",
              "      background-color: #E2EBFA;\n",
              "      box-shadow: 0px 1px 2px rgba(60, 64, 67, 0.3), 0px 1px 3px 1px rgba(60, 64, 67, 0.15);\n",
              "      fill: #174EA6;\n",
              "    }\n",
              "\n",
              "    [theme=dark] .colab-df-convert {\n",
              "      background-color: #3B4455;\n",
              "      fill: #D2E3FC;\n",
              "    }\n",
              "\n",
              "    [theme=dark] .colab-df-convert:hover {\n",
              "      background-color: #434B5C;\n",
              "      box-shadow: 0px 1px 3px 1px rgba(0, 0, 0, 0.15);\n",
              "      filter: drop-shadow(0px 1px 2px rgba(0, 0, 0, 0.3));\n",
              "      fill: #FFFFFF;\n",
              "    }\n",
              "  </style>\n",
              "\n",
              "      <script>\n",
              "        const buttonEl =\n",
              "          document.querySelector('#df-622bc4a0-d20b-43e2-a625-e5ed7ea8d8fa button.colab-df-convert');\n",
              "        buttonEl.style.display =\n",
              "          google.colab.kernel.accessAllowed ? 'block' : 'none';\n",
              "\n",
              "        async function convertToInteractive(key) {\n",
              "          const element = document.querySelector('#df-622bc4a0-d20b-43e2-a625-e5ed7ea8d8fa');\n",
              "          const dataTable =\n",
              "            await google.colab.kernel.invokeFunction('convertToInteractive',\n",
              "                                                     [key], {});\n",
              "          if (!dataTable) return;\n",
              "\n",
              "          const docLinkHtml = 'Like what you see? Visit the ' +\n",
              "            '<a target=\"_blank\" href=https://colab.research.google.com/notebooks/data_table.ipynb>data table notebook</a>'\n",
              "            + ' to learn more about interactive tables.';\n",
              "          element.innerHTML = '';\n",
              "          dataTable['output_type'] = 'display_data';\n",
              "          await google.colab.output.renderOutput(dataTable, element);\n",
              "          const docLink = document.createElement('div');\n",
              "          docLink.innerHTML = docLinkHtml;\n",
              "          element.appendChild(docLink);\n",
              "        }\n",
              "      </script>\n",
              "    </div>\n",
              "  </div>\n",
              "  "
            ]
          },
          "metadata": {},
          "execution_count": 186
        }
      ]
    },
    {
      "cell_type": "markdown",
      "source": [
        "Clean the data and check missing values for this dataset."
      ],
      "metadata": {
        "id": "WdXMCUeYW2uC"
      }
    },
    {
      "cell_type": "code",
      "source": [
        "df.dtypes"
      ],
      "metadata": {
        "id": "a2A0jkX4BEiH",
        "colab": {
          "base_uri": "https://localhost:8080/"
        },
        "outputId": "5dc44c16-52b6-4abc-fd5f-7a50d32cc707"
      },
      "execution_count": null,
      "outputs": [
        {
          "output_type": "execute_result",
          "data": {
            "text/plain": [
              "Freq                             int64\n",
              "Ang                            float64\n",
              "ChrdLen                        float64\n",
              "StreamVel                      float64\n",
              "SuctionDisp                    float64\n",
              "Scaled Sound Pressure Level    float64\n",
              "dtype: object"
            ]
          },
          "metadata": {},
          "execution_count": 187
        }
      ]
    },
    {
      "cell_type": "code",
      "source": [
        "df.isnull().sum(axis=0)"
      ],
      "metadata": {
        "colab": {
          "base_uri": "https://localhost:8080/"
        },
        "id": "abVWn_zMFNPe",
        "outputId": "bd6f347a-423e-47af-b22d-0cb660251f1d"
      },
      "execution_count": null,
      "outputs": [
        {
          "output_type": "execute_result",
          "data": {
            "text/plain": [
              "Freq                           0\n",
              "Ang                            0\n",
              "ChrdLen                        0\n",
              "StreamVel                      0\n",
              "SuctionDisp                    0\n",
              "Scaled Sound Pressure Level    0\n",
              "dtype: int64"
            ]
          },
          "metadata": {},
          "execution_count": 188
        }
      ]
    },
    {
      "cell_type": "code",
      "source": [
        "df.describe()"
      ],
      "metadata": {
        "colab": {
          "base_uri": "https://localhost:8080/",
          "height": 300
        },
        "id": "PEVkyfSSHlsJ",
        "outputId": "3c9fddd9-1962-4b3e-f720-a4e8c184c73c"
      },
      "execution_count": null,
      "outputs": [
        {
          "output_type": "execute_result",
          "data": {
            "text/plain": [
              "               Freq          Ang      ChrdLen    StreamVel  SuctionDisp  \\\n",
              "count   1503.000000  1503.000000  1503.000000  1503.000000  1503.000000   \n",
              "mean    2886.380572     6.782302     0.136548    50.860745     0.011140   \n",
              "std     3152.573137     5.918128     0.093541    15.572784     0.013150   \n",
              "min      200.000000     0.000000     0.025400    31.700000     0.000401   \n",
              "25%      800.000000     2.000000     0.050800    39.600000     0.002535   \n",
              "50%     1600.000000     5.400000     0.101600    39.600000     0.004957   \n",
              "75%     4000.000000     9.900000     0.228600    71.300000     0.015576   \n",
              "max    20000.000000    22.200000     0.304800    71.300000     0.058411   \n",
              "\n",
              "       Scaled Sound Pressure Level  \n",
              "count                  1503.000000  \n",
              "mean                    124.835943  \n",
              "std                       6.898657  \n",
              "min                     103.380000  \n",
              "25%                     120.191000  \n",
              "50%                     125.721000  \n",
              "75%                     129.995500  \n",
              "max                     140.987000  "
            ],
            "text/html": [
              "\n",
              "  <div id=\"df-a3d3909f-8250-4386-b64d-4294b1ff2824\">\n",
              "    <div class=\"colab-df-container\">\n",
              "      <div>\n",
              "<style scoped>\n",
              "    .dataframe tbody tr th:only-of-type {\n",
              "        vertical-align: middle;\n",
              "    }\n",
              "\n",
              "    .dataframe tbody tr th {\n",
              "        vertical-align: top;\n",
              "    }\n",
              "\n",
              "    .dataframe thead th {\n",
              "        text-align: right;\n",
              "    }\n",
              "</style>\n",
              "<table border=\"1\" class=\"dataframe\">\n",
              "  <thead>\n",
              "    <tr style=\"text-align: right;\">\n",
              "      <th></th>\n",
              "      <th>Freq</th>\n",
              "      <th>Ang</th>\n",
              "      <th>ChrdLen</th>\n",
              "      <th>StreamVel</th>\n",
              "      <th>SuctionDisp</th>\n",
              "      <th>Scaled Sound Pressure Level</th>\n",
              "    </tr>\n",
              "  </thead>\n",
              "  <tbody>\n",
              "    <tr>\n",
              "      <th>count</th>\n",
              "      <td>1503.000000</td>\n",
              "      <td>1503.000000</td>\n",
              "      <td>1503.000000</td>\n",
              "      <td>1503.000000</td>\n",
              "      <td>1503.000000</td>\n",
              "      <td>1503.000000</td>\n",
              "    </tr>\n",
              "    <tr>\n",
              "      <th>mean</th>\n",
              "      <td>2886.380572</td>\n",
              "      <td>6.782302</td>\n",
              "      <td>0.136548</td>\n",
              "      <td>50.860745</td>\n",
              "      <td>0.011140</td>\n",
              "      <td>124.835943</td>\n",
              "    </tr>\n",
              "    <tr>\n",
              "      <th>std</th>\n",
              "      <td>3152.573137</td>\n",
              "      <td>5.918128</td>\n",
              "      <td>0.093541</td>\n",
              "      <td>15.572784</td>\n",
              "      <td>0.013150</td>\n",
              "      <td>6.898657</td>\n",
              "    </tr>\n",
              "    <tr>\n",
              "      <th>min</th>\n",
              "      <td>200.000000</td>\n",
              "      <td>0.000000</td>\n",
              "      <td>0.025400</td>\n",
              "      <td>31.700000</td>\n",
              "      <td>0.000401</td>\n",
              "      <td>103.380000</td>\n",
              "    </tr>\n",
              "    <tr>\n",
              "      <th>25%</th>\n",
              "      <td>800.000000</td>\n",
              "      <td>2.000000</td>\n",
              "      <td>0.050800</td>\n",
              "      <td>39.600000</td>\n",
              "      <td>0.002535</td>\n",
              "      <td>120.191000</td>\n",
              "    </tr>\n",
              "    <tr>\n",
              "      <th>50%</th>\n",
              "      <td>1600.000000</td>\n",
              "      <td>5.400000</td>\n",
              "      <td>0.101600</td>\n",
              "      <td>39.600000</td>\n",
              "      <td>0.004957</td>\n",
              "      <td>125.721000</td>\n",
              "    </tr>\n",
              "    <tr>\n",
              "      <th>75%</th>\n",
              "      <td>4000.000000</td>\n",
              "      <td>9.900000</td>\n",
              "      <td>0.228600</td>\n",
              "      <td>71.300000</td>\n",
              "      <td>0.015576</td>\n",
              "      <td>129.995500</td>\n",
              "    </tr>\n",
              "    <tr>\n",
              "      <th>max</th>\n",
              "      <td>20000.000000</td>\n",
              "      <td>22.200000</td>\n",
              "      <td>0.304800</td>\n",
              "      <td>71.300000</td>\n",
              "      <td>0.058411</td>\n",
              "      <td>140.987000</td>\n",
              "    </tr>\n",
              "  </tbody>\n",
              "</table>\n",
              "</div>\n",
              "      <button class=\"colab-df-convert\" onclick=\"convertToInteractive('df-a3d3909f-8250-4386-b64d-4294b1ff2824')\"\n",
              "              title=\"Convert this dataframe to an interactive table.\"\n",
              "              style=\"display:none;\">\n",
              "        \n",
              "  <svg xmlns=\"http://www.w3.org/2000/svg\" height=\"24px\"viewBox=\"0 0 24 24\"\n",
              "       width=\"24px\">\n",
              "    <path d=\"M0 0h24v24H0V0z\" fill=\"none\"/>\n",
              "    <path d=\"M18.56 5.44l.94 2.06.94-2.06 2.06-.94-2.06-.94-.94-2.06-.94 2.06-2.06.94zm-11 1L8.5 8.5l.94-2.06 2.06-.94-2.06-.94L8.5 2.5l-.94 2.06-2.06.94zm10 10l.94 2.06.94-2.06 2.06-.94-2.06-.94-.94-2.06-.94 2.06-2.06.94z\"/><path d=\"M17.41 7.96l-1.37-1.37c-.4-.4-.92-.59-1.43-.59-.52 0-1.04.2-1.43.59L10.3 9.45l-7.72 7.72c-.78.78-.78 2.05 0 2.83L4 21.41c.39.39.9.59 1.41.59.51 0 1.02-.2 1.41-.59l7.78-7.78 2.81-2.81c.8-.78.8-2.07 0-2.86zM5.41 20L4 18.59l7.72-7.72 1.47 1.35L5.41 20z\"/>\n",
              "  </svg>\n",
              "      </button>\n",
              "      \n",
              "  <style>\n",
              "    .colab-df-container {\n",
              "      display:flex;\n",
              "      flex-wrap:wrap;\n",
              "      gap: 12px;\n",
              "    }\n",
              "\n",
              "    .colab-df-convert {\n",
              "      background-color: #E8F0FE;\n",
              "      border: none;\n",
              "      border-radius: 50%;\n",
              "      cursor: pointer;\n",
              "      display: none;\n",
              "      fill: #1967D2;\n",
              "      height: 32px;\n",
              "      padding: 0 0 0 0;\n",
              "      width: 32px;\n",
              "    }\n",
              "\n",
              "    .colab-df-convert:hover {\n",
              "      background-color: #E2EBFA;\n",
              "      box-shadow: 0px 1px 2px rgba(60, 64, 67, 0.3), 0px 1px 3px 1px rgba(60, 64, 67, 0.15);\n",
              "      fill: #174EA6;\n",
              "    }\n",
              "\n",
              "    [theme=dark] .colab-df-convert {\n",
              "      background-color: #3B4455;\n",
              "      fill: #D2E3FC;\n",
              "    }\n",
              "\n",
              "    [theme=dark] .colab-df-convert:hover {\n",
              "      background-color: #434B5C;\n",
              "      box-shadow: 0px 1px 3px 1px rgba(0, 0, 0, 0.15);\n",
              "      filter: drop-shadow(0px 1px 2px rgba(0, 0, 0, 0.3));\n",
              "      fill: #FFFFFF;\n",
              "    }\n",
              "  </style>\n",
              "\n",
              "      <script>\n",
              "        const buttonEl =\n",
              "          document.querySelector('#df-a3d3909f-8250-4386-b64d-4294b1ff2824 button.colab-df-convert');\n",
              "        buttonEl.style.display =\n",
              "          google.colab.kernel.accessAllowed ? 'block' : 'none';\n",
              "\n",
              "        async function convertToInteractive(key) {\n",
              "          const element = document.querySelector('#df-a3d3909f-8250-4386-b64d-4294b1ff2824');\n",
              "          const dataTable =\n",
              "            await google.colab.kernel.invokeFunction('convertToInteractive',\n",
              "                                                     [key], {});\n",
              "          if (!dataTable) return;\n",
              "\n",
              "          const docLinkHtml = 'Like what you see? Visit the ' +\n",
              "            '<a target=\"_blank\" href=https://colab.research.google.com/notebooks/data_table.ipynb>data table notebook</a>'\n",
              "            + ' to learn more about interactive tables.';\n",
              "          element.innerHTML = '';\n",
              "          dataTable['output_type'] = 'display_data';\n",
              "          await google.colab.output.renderOutput(dataTable, element);\n",
              "          const docLink = document.createElement('div');\n",
              "          docLink.innerHTML = docLinkHtml;\n",
              "          element.appendChild(docLink);\n",
              "        }\n",
              "      </script>\n",
              "    </div>\n",
              "  </div>\n",
              "  "
            ]
          },
          "metadata": {},
          "execution_count": 189
        }
      ]
    },
    {
      "cell_type": "markdown",
      "source": [
        "Split the data into 80% of training and 20% of the test dataset. Build a simple linear regression to forecast \"Scaled sound pressure level\" using all other features and scikit-learn package. What's the test error for this scikit-learn regression model?"
      ],
      "metadata": {
        "id": "fwZH2g8qW8AS"
      }
    },
    {
      "cell_type": "code",
      "source": [
        "#obtain features and label\n",
        "X = df.drop('Scaled Sound Pressure Level',axis=1)\n",
        "y = df['Scaled Sound Pressure Level']\n",
        "\n",
        "#split the data\n",
        "from sklearn.model_selection import train_test_split\n",
        "X_train, X_test, y_train, y_test = train_test_split(X,y, test_size = .2, random_state = 2023)"
      ],
      "metadata": {
        "id": "RFcavqxFFaih"
      },
      "execution_count": null,
      "outputs": []
    },
    {
      "cell_type": "code",
      "source": [
        "from sklearn.linear_model import LinearRegression\n",
        "from sklearn.metrics import mean_squared_error, mean_absolute_error\n",
        "# Create the linear regression model\n",
        "model = LinearRegression()\n",
        "\n",
        "# Train the model using the training data\n",
        "model.fit(X_train, y_train)\n",
        "\n",
        "# Make predictions on the test set\n",
        "y_pred = model.predict(X_test)\n",
        "\n",
        "# Calculate the mean squared error (test error)\n",
        "test_error = mean_squared_error(y_test, y_pred)\n",
        "print(\"Test error:\", test_error)\n"
      ],
      "metadata": {
        "colab": {
          "base_uri": "https://localhost:8080/"
        },
        "id": "d74B7yJEIMuR",
        "outputId": "d420c64a-7480-4e52-bd25-4707d31f9095"
      },
      "execution_count": null,
      "outputs": [
        {
          "output_type": "stream",
          "name": "stdout",
          "text": [
            "Test error: 21.939806034923855\n"
          ]
        }
      ]
    },
    {
      "cell_type": "markdown",
      "source": [
        "Preprocess the data using the normalization method to convert all features into the range of [0,1]."
      ],
      "metadata": {
        "id": "D1oqc5l6W-3y"
      }
    },
    {
      "cell_type": "code",
      "source": [
        "from sklearn.preprocessing import MinMaxScaler\n",
        "scaler = MinMaxScaler()\n",
        "X_train = scaler.fit_transform(X_train)\n",
        "X_test = scaler.transform(X_test)"
      ],
      "metadata": {
        "id": "GHUxEemsUq9L"
      },
      "execution_count": null,
      "outputs": []
    },
    {
      "cell_type": "markdown",
      "source": [
        "Build a deep learning regression model to forecast \"Scaled sound pressure level\" using all other features and TensorFlow. Please use only two layers of the neuron network. You choose the number of neurons to use in the first layer. What's the test error for this model?"
      ],
      "metadata": {
        "id": "HyKKOeV6XBoy"
      }
    },
    {
      "cell_type": "code",
      "source": [
        "import tensorflow as tf\n",
        "from tensorflow import keras\n",
        "from tensorflow.keras import layers\n",
        "\n",
        "#Define Sequential model with 2 layers\n",
        "model = keras.Sequential()\n",
        "model.add(layers.Dense(10, activation = 'relu'))\n",
        "model.add(layers.Dense(1))\n",
        "\n",
        "model.compile(optimizer='adam',loss='mse')\n",
        "\n",
        "tf.random.set_seed(1)\n",
        "model.fit(x=X_train,y=y_train,batch_size=64,epochs=100,\n",
        "          validation_data=(X_test,y_test))\n"
      ],
      "metadata": {
        "colab": {
          "base_uri": "https://localhost:8080/"
        },
        "id": "LesM5jUlYFdS",
        "outputId": "81de4162-ab20-49fb-b9b4-1951f6f16e42"
      },
      "execution_count": null,
      "outputs": [
        {
          "output_type": "stream",
          "name": "stdout",
          "text": [
            "Epoch 1/100\n",
            "19/19 [==============================] - 2s 43ms/step - loss: 15549.0264 - val_loss: 15547.6709\n",
            "Epoch 2/100\n",
            "19/19 [==============================] - 0s 17ms/step - loss: 15511.2393 - val_loss: 15508.3174\n",
            "Epoch 3/100\n",
            "19/19 [==============================] - 0s 15ms/step - loss: 15471.1602 - val_loss: 15466.2891\n",
            "Epoch 4/100\n",
            "19/19 [==============================] - 0s 14ms/step - loss: 15427.8252 - val_loss: 15420.1523\n",
            "Epoch 5/100\n",
            "19/19 [==============================] - 0s 15ms/step - loss: 15379.8701 - val_loss: 15368.8320\n",
            "Epoch 6/100\n",
            "19/19 [==============================] - 0s 16ms/step - loss: 15325.3682 - val_loss: 15310.2227\n",
            "Epoch 7/100\n",
            "19/19 [==============================] - 0s 9ms/step - loss: 15263.4941 - val_loss: 15243.4404\n",
            "Epoch 8/100\n",
            "19/19 [==============================] - 0s 6ms/step - loss: 15193.8682 - val_loss: 15169.5449\n",
            "Epoch 9/100\n",
            "19/19 [==============================] - 0s 4ms/step - loss: 15117.4043 - val_loss: 15089.3721\n",
            "Epoch 10/100\n",
            "19/19 [==============================] - 0s 4ms/step - loss: 15034.5811 - val_loss: 15002.6777\n",
            "Epoch 11/100\n",
            "19/19 [==============================] - 0s 4ms/step - loss: 14945.5645 - val_loss: 14909.5137\n",
            "Epoch 12/100\n",
            "19/19 [==============================] - 0s 5ms/step - loss: 14850.2383 - val_loss: 14811.1465\n",
            "Epoch 13/100\n",
            "19/19 [==============================] - 0s 4ms/step - loss: 14750.0234 - val_loss: 14707.1914\n",
            "Epoch 14/100\n",
            "19/19 [==============================] - 0s 4ms/step - loss: 14644.2529 - val_loss: 14598.1777\n",
            "Epoch 15/100\n",
            "19/19 [==============================] - 0s 5ms/step - loss: 14533.5645 - val_loss: 14483.7744\n",
            "Epoch 16/100\n",
            "19/19 [==============================] - 0s 4ms/step - loss: 14417.4023 - val_loss: 14364.4199\n",
            "Epoch 17/100\n",
            "19/19 [==============================] - 0s 5ms/step - loss: 14296.3125 - val_loss: 14240.0117\n",
            "Epoch 18/100\n",
            "19/19 [==============================] - 0s 5ms/step - loss: 14170.2930 - val_loss: 14110.4189\n",
            "Epoch 19/100\n",
            "19/19 [==============================] - 0s 4ms/step - loss: 14038.8838 - val_loss: 13976.4717\n",
            "Epoch 20/100\n",
            "19/19 [==============================] - 0s 5ms/step - loss: 13903.2490 - val_loss: 13837.1396\n",
            "Epoch 21/100\n",
            "19/19 [==============================] - 0s 4ms/step - loss: 13762.6875 - val_loss: 13693.3574\n",
            "Epoch 22/100\n",
            "19/19 [==============================] - 0s 4ms/step - loss: 13617.6777 - val_loss: 13545.1992\n",
            "Epoch 23/100\n",
            "19/19 [==============================] - 0s 4ms/step - loss: 13468.3525 - val_loss: 13392.6309\n",
            "Epoch 24/100\n",
            "19/19 [==============================] - 0s 5ms/step - loss: 13314.6816 - val_loss: 13235.8828\n",
            "Epoch 25/100\n",
            "19/19 [==============================] - 0s 4ms/step - loss: 13156.7109 - val_loss: 13075.5156\n",
            "Epoch 26/100\n",
            "19/19 [==============================] - 0s 5ms/step - loss: 12995.5322 - val_loss: 12910.4932\n",
            "Epoch 27/100\n",
            "19/19 [==============================] - 0s 4ms/step - loss: 12829.8047 - val_loss: 12742.6455\n",
            "Epoch 28/100\n",
            "19/19 [==============================] - 0s 4ms/step - loss: 12661.0254 - val_loss: 12571.0996\n",
            "Epoch 29/100\n",
            "19/19 [==============================] - 0s 6ms/step - loss: 12488.9473 - val_loss: 12396.0518\n",
            "Epoch 30/100\n",
            "19/19 [==============================] - 0s 5ms/step - loss: 12313.3350 - val_loss: 12218.3838\n",
            "Epoch 31/100\n",
            "19/19 [==============================] - 0s 5ms/step - loss: 12135.0723 - val_loss: 12037.7461\n",
            "Epoch 32/100\n",
            "19/19 [==============================] - 0s 5ms/step - loss: 11954.3115 - val_loss: 11853.8584\n",
            "Epoch 33/100\n",
            "19/19 [==============================] - 0s 4ms/step - loss: 11770.3730 - val_loss: 11668.0469\n",
            "Epoch 34/100\n",
            "19/19 [==============================] - 0s 6ms/step - loss: 11584.3799 - val_loss: 11480.0137\n",
            "Epoch 35/100\n",
            "19/19 [==============================] - 0s 5ms/step - loss: 11396.2744 - val_loss: 11289.5811\n",
            "Epoch 36/100\n",
            "19/19 [==============================] - 0s 5ms/step - loss: 11205.9072 - val_loss: 11097.3711\n",
            "Epoch 37/100\n",
            "19/19 [==============================] - 0s 4ms/step - loss: 11013.7793 - val_loss: 10903.5361\n",
            "Epoch 38/100\n",
            "19/19 [==============================] - 0s 5ms/step - loss: 10820.1572 - val_loss: 10708.1543\n",
            "Epoch 39/100\n",
            "19/19 [==============================] - 0s 6ms/step - loss: 10625.2363 - val_loss: 10511.2275\n",
            "Epoch 40/100\n",
            "19/19 [==============================] - 0s 4ms/step - loss: 10428.5508 - val_loss: 10313.8652\n",
            "Epoch 41/100\n",
            "19/19 [==============================] - 0s 4ms/step - loss: 10231.2842 - val_loss: 10115.3301\n",
            "Epoch 42/100\n",
            "19/19 [==============================] - 0s 5ms/step - loss: 10033.1777 - val_loss: 9915.9219\n",
            "Epoch 43/100\n",
            "19/19 [==============================] - 0s 4ms/step - loss: 9834.4766 - val_loss: 9715.8438\n",
            "Epoch 44/100\n",
            "19/19 [==============================] - 0s 5ms/step - loss: 9635.0996 - val_loss: 9515.7461\n",
            "Epoch 45/100\n",
            "19/19 [==============================] - 0s 4ms/step - loss: 9435.7070 - val_loss: 9315.2266\n",
            "Epoch 46/100\n",
            "19/19 [==============================] - 0s 4ms/step - loss: 9236.1855 - val_loss: 9114.7051\n",
            "Epoch 47/100\n",
            "19/19 [==============================] - 0s 4ms/step - loss: 9036.3906 - val_loss: 8914.9336\n",
            "Epoch 48/100\n",
            "19/19 [==============================] - 0s 4ms/step - loss: 8837.3398 - val_loss: 8715.2803\n",
            "Epoch 49/100\n",
            "19/19 [==============================] - 0s 5ms/step - loss: 8638.6494 - val_loss: 8516.1143\n",
            "Epoch 50/100\n",
            "19/19 [==============================] - 0s 5ms/step - loss: 8440.4785 - val_loss: 8317.6621\n",
            "Epoch 51/100\n",
            "19/19 [==============================] - 0s 4ms/step - loss: 8243.1318 - val_loss: 8120.1729\n",
            "Epoch 52/100\n",
            "19/19 [==============================] - 0s 5ms/step - loss: 8046.9644 - val_loss: 7923.3994\n",
            "Epoch 53/100\n",
            "19/19 [==============================] - 0s 4ms/step - loss: 7851.6206 - val_loss: 7728.2549\n",
            "Epoch 54/100\n",
            "19/19 [==============================] - 0s 4ms/step - loss: 7657.6670 - val_loss: 7534.6929\n",
            "Epoch 55/100\n",
            "19/19 [==============================] - 0s 4ms/step - loss: 7465.3013 - val_loss: 7342.6162\n",
            "Epoch 56/100\n",
            "19/19 [==============================] - 0s 5ms/step - loss: 7274.6699 - val_loss: 7151.9702\n",
            "Epoch 57/100\n",
            "19/19 [==============================] - 0s 4ms/step - loss: 7085.4268 - val_loss: 6963.4980\n",
            "Epoch 58/100\n",
            "19/19 [==============================] - 0s 5ms/step - loss: 6898.1768 - val_loss: 6776.9922\n",
            "Epoch 59/100\n",
            "19/19 [==============================] - 0s 4ms/step - loss: 6712.9658 - val_loss: 6592.5723\n",
            "Epoch 60/100\n",
            "19/19 [==============================] - 0s 5ms/step - loss: 6529.8892 - val_loss: 6410.4272\n",
            "Epoch 61/100\n",
            "19/19 [==============================] - 0s 6ms/step - loss: 6349.1753 - val_loss: 6230.4668\n",
            "Epoch 62/100\n",
            "19/19 [==============================] - 0s 4ms/step - loss: 6170.8442 - val_loss: 6052.8931\n",
            "Epoch 63/100\n",
            "19/19 [==============================] - 0s 5ms/step - loss: 5994.7100 - val_loss: 5878.4102\n",
            "Epoch 64/100\n",
            "19/19 [==============================] - 0s 5ms/step - loss: 5821.6909 - val_loss: 5706.1904\n",
            "Epoch 65/100\n",
            "19/19 [==============================] - 0s 5ms/step - loss: 5650.9790 - val_loss: 5537.0708\n",
            "Epoch 66/100\n",
            "19/19 [==============================] - 0s 5ms/step - loss: 5483.4312 - val_loss: 5370.5498\n",
            "Epoch 67/100\n",
            "19/19 [==============================] - 0s 5ms/step - loss: 5318.4277 - val_loss: 5207.4590\n",
            "Epoch 68/100\n",
            "19/19 [==============================] - 0s 4ms/step - loss: 5156.8213 - val_loss: 5047.1138\n",
            "Epoch 69/100\n",
            "19/19 [==============================] - 0s 5ms/step - loss: 4997.9663 - val_loss: 4890.3174\n",
            "Epoch 70/100\n",
            "19/19 [==============================] - 0s 5ms/step - loss: 4842.5806 - val_loss: 4736.4609\n",
            "Epoch 71/100\n",
            "19/19 [==============================] - 0s 4ms/step - loss: 4690.3242 - val_loss: 4585.7876\n",
            "Epoch 72/100\n",
            "19/19 [==============================] - 0s 5ms/step - loss: 4541.1953 - val_loss: 4438.6851\n",
            "Epoch 73/100\n",
            "19/19 [==============================] - 0s 5ms/step - loss: 4395.4995 - val_loss: 4294.9429\n",
            "Epoch 74/100\n",
            "19/19 [==============================] - 0s 5ms/step - loss: 4253.2612 - val_loss: 4154.6489\n",
            "Epoch 75/100\n",
            "19/19 [==============================] - 0s 4ms/step - loss: 4114.3862 - val_loss: 4017.9619\n",
            "Epoch 76/100\n",
            "19/19 [==============================] - 0s 4ms/step - loss: 3979.0129 - val_loss: 3884.8257\n",
            "Epoch 77/100\n",
            "19/19 [==============================] - 0s 5ms/step - loss: 3847.3286 - val_loss: 3755.0212\n",
            "Epoch 78/100\n",
            "19/19 [==============================] - 0s 5ms/step - loss: 3718.7886 - val_loss: 3629.1895\n",
            "Epoch 79/100\n",
            "19/19 [==============================] - 0s 4ms/step - loss: 3594.3049 - val_loss: 3506.5549\n",
            "Epoch 80/100\n",
            "19/19 [==============================] - 0s 5ms/step - loss: 3472.8938 - val_loss: 3387.8350\n",
            "Epoch 81/100\n",
            "19/19 [==============================] - 0s 4ms/step - loss: 3355.4778 - val_loss: 3272.3572\n",
            "Epoch 82/100\n",
            "19/19 [==============================] - 0s 5ms/step - loss: 3241.4177 - val_loss: 3160.6228\n",
            "Epoch 83/100\n",
            "19/19 [==============================] - 0s 5ms/step - loss: 3130.8064 - val_loss: 3052.8413\n",
            "Epoch 84/100\n",
            "19/19 [==============================] - 0s 6ms/step - loss: 3024.1819 - val_loss: 2948.2156\n",
            "Epoch 85/100\n",
            "19/19 [==============================] - 0s 5ms/step - loss: 2920.9460 - val_loss: 2847.1697\n",
            "Epoch 86/100\n",
            "19/19 [==============================] - 0s 5ms/step - loss: 2821.0266 - val_loss: 2750.0759\n",
            "Epoch 87/100\n",
            "19/19 [==============================] - 0s 5ms/step - loss: 2725.0684 - val_loss: 2655.9905\n",
            "Epoch 88/100\n",
            "19/19 [==============================] - 0s 4ms/step - loss: 2631.7737 - val_loss: 2566.4924\n",
            "Epoch 89/100\n",
            "19/19 [==============================] - 0s 5ms/step - loss: 2543.0659 - val_loss: 2479.2732\n",
            "Epoch 90/100\n",
            "19/19 [==============================] - 0s 4ms/step - loss: 2456.8560 - val_loss: 2396.0361\n",
            "Epoch 91/100\n",
            "19/19 [==============================] - 0s 6ms/step - loss: 2374.5076 - val_loss: 2315.9463\n",
            "Epoch 92/100\n",
            "19/19 [==============================] - 0s 5ms/step - loss: 2295.5947 - val_loss: 2238.9131\n",
            "Epoch 93/100\n",
            "19/19 [==============================] - 0s 14ms/step - loss: 2219.4460 - val_loss: 2165.7375\n",
            "Epoch 94/100\n",
            "19/19 [==============================] - 0s 12ms/step - loss: 2146.9321 - val_loss: 2095.5273\n",
            "Epoch 95/100\n",
            "19/19 [==============================] - 0s 10ms/step - loss: 2077.4871 - val_loss: 2028.4219\n",
            "Epoch 96/100\n",
            "19/19 [==============================] - 0s 5ms/step - loss: 2010.9542 - val_loss: 1964.5619\n",
            "Epoch 97/100\n",
            "19/19 [==============================] - 0s 6ms/step - loss: 1947.8473 - val_loss: 1903.0314\n",
            "Epoch 98/100\n",
            "19/19 [==============================] - 0s 5ms/step - loss: 1886.8552 - val_loss: 1845.3418\n",
            "Epoch 99/100\n",
            "19/19 [==============================] - 0s 5ms/step - loss: 1829.6456 - val_loss: 1789.6138\n",
            "Epoch 100/100\n",
            "19/19 [==============================] - 0s 5ms/step - loss: 1774.7148 - val_loss: 1736.9031\n"
          ]
        },
        {
          "output_type": "execute_result",
          "data": {
            "text/plain": [
              "<keras.callbacks.History at 0x7ff6a7067850>"
            ]
          },
          "metadata": {},
          "execution_count": 193
        }
      ]
    },
    {
      "cell_type": "code",
      "source": [
        "X_train.shape"
      ],
      "metadata": {
        "colab": {
          "base_uri": "https://localhost:8080/"
        },
        "id": "X563VZGHdNfn",
        "outputId": "990af74b-918f-424a-dcff-09018216a462"
      },
      "execution_count": null,
      "outputs": [
        {
          "output_type": "execute_result",
          "data": {
            "text/plain": [
              "(1202, 5)"
            ]
          },
          "metadata": {},
          "execution_count": 194
        }
      ]
    },
    {
      "cell_type": "code",
      "source": [
        "y_pred = model.predict(X_test)\n",
        "test_error = mean_squared_error(y_test,y_pred)\n",
        "print('The mean square error is {0:.4f}'.format(mean_squared_error(y_test,y_pred)))"
      ],
      "metadata": {
        "colab": {
          "base_uri": "https://localhost:8080/"
        },
        "id": "4q9ZZzbddhku",
        "outputId": "2cf1c1f3-9514-46ca-dad3-c6de3a7ee254"
      },
      "execution_count": null,
      "outputs": [
        {
          "output_type": "stream",
          "name": "stdout",
          "text": [
            "10/10 [==============================] - 0s 5ms/step\n",
            "The mean square error is 1736.9031\n"
          ]
        }
      ]
    },
    {
      "cell_type": "markdown",
      "source": [
        "Can you improve the model performance of question 5 by adjusting the number of neurons or the optimization algorithm?"
      ],
      "metadata": {
        "id": "qlrK7nQbXDf6"
      }
    },
    {
      "cell_type": "markdown",
      "source": [
        "Increasing to 1000 neurons will drastically reduce error."
      ],
      "metadata": {
        "id": "dVNlMPLLg8A8"
      }
    },
    {
      "cell_type": "markdown",
      "source": [
        "Build a deep learning regression model to forecast \"Scaled sound pressure level\" using all other features and PyTorch. Please use only two layers of the neuron network. You choose the number of neurons to use in the first layer. What's the test error for this model?"
      ],
      "metadata": {
        "id": "9pt9mA8tXFWy"
      }
    },
    {
      "cell_type": "code",
      "source": [
        "import torch\n",
        "import torch.nn as nn\n",
        "import torch.nn.functional as F\n",
        "import numpy as np\n",
        "\n",
        "X_train = torch.tensor(X_train.astype(np.float32))\n",
        "y_train = torch.tensor(y_train.values.astype(np.float32).reshape(-1,1))\n",
        "y_train.shape"
      ],
      "metadata": {
        "colab": {
          "base_uri": "https://localhost:8080/"
        },
        "id": "rvn0ZBPZYIex",
        "outputId": "864322d0-d93a-438d-ae8c-12c32a447a6d"
      },
      "execution_count": null,
      "outputs": [
        {
          "output_type": "execute_result",
          "data": {
            "text/plain": [
              "torch.Size([1202, 1])"
            ]
          },
          "metadata": {},
          "execution_count": 196
        }
      ]
    },
    {
      "cell_type": "code",
      "source": [
        "input_size = X_train.shape[1]\n",
        "output_size = y_train.shape[1]\n",
        "#specify the number of neuron for the first layer\n",
        "hidden_size = 10\n",
        "print(input_size, \" \",output_size)"
      ],
      "metadata": {
        "colab": {
          "base_uri": "https://localhost:8080/"
        },
        "id": "06WPwtTnhkzD",
        "outputId": "0456fcaf-1d2d-41cc-cc79-997066d1bb24"
      },
      "execution_count": null,
      "outputs": [
        {
          "output_type": "stream",
          "name": "stdout",
          "text": [
            "5   1\n"
          ]
        }
      ]
    },
    {
      "cell_type": "code",
      "source": [
        "# define the child module class derivated from parent class of torch.nn.Module)\n",
        "class LinearRegressionModel(torch.nn.Module):\n",
        "    #define the constructor\n",
        "    def __init__(self, input_size, hidden_size, output_size):\n",
        "        super(LinearRegressionModel, self).__init__()\n",
        "        self.hidden = torch.nn.Linear(input_size, hidden_size)\n",
        "        self.predict = torch.nn.Linear(hidden_size, output_size)\n",
        "    #overife the forward function in this child class\n",
        "    def forward(self, x):\n",
        "        x = F.relu(self.hidden(x))\n",
        "        y_pred = self.predict(x)\n",
        "        return y_pred"
      ],
      "metadata": {
        "id": "W_9NkfjLiLBU"
      },
      "execution_count": null,
      "outputs": []
    },
    {
      "cell_type": "code",
      "source": [
        "model = LinearRegressionModel(input_size,hidden_size,output_size)\n",
        "l = nn.MSELoss()\n",
        "optimizer = torch.optim.Adam(model.parameters(),lr=.05)"
      ],
      "metadata": {
        "id": "CmU-vGN2iXmD"
      },
      "execution_count": null,
      "outputs": []
    },
    {
      "cell_type": "code",
      "source": [
        "#fix the random seeds for torch and np\n",
        "torch.manual_seed(1)\n",
        "np.random.seed(0)\n",
        "\n",
        "num_epochs = 100\n",
        "for epoch in range(num_epochs):\n",
        "  #forward pass\n",
        "  y_pred = model(X_train.requires_grad_())\n",
        "\n",
        "  #calculate the loss\n",
        "  loss = l(y_pred,y_train)\n",
        "  #set the gradients to be zero\n",
        "  optimizer.zero_grad()\n",
        "\n",
        "  #backward pass: calculate gradients\n",
        "  loss.backward()\n",
        "\n",
        "  #update the weights\n",
        "  optimizer.step()\n",
        "\n",
        "  print('epoch {0}, loss:{1:.4f}'.format(epoch,loss.item()))"
      ],
      "metadata": {
        "colab": {
          "base_uri": "https://localhost:8080/"
        },
        "id": "AgjR8IX0ioZr",
        "outputId": "a50984e2-d0cc-4575-d436-86a7ba81f5d5"
      },
      "execution_count": null,
      "outputs": [
        {
          "output_type": "stream",
          "name": "stdout",
          "text": [
            "epoch 0, loss:15604.0967\n",
            "epoch 1, loss:15541.8203\n",
            "epoch 2, loss:15479.6504\n",
            "epoch 3, loss:15410.0732\n",
            "epoch 4, loss:15328.7334\n",
            "epoch 5, loss:15232.5928\n",
            "epoch 6, loss:15119.0996\n",
            "epoch 7, loss:14987.6543\n",
            "epoch 8, loss:14837.7754\n",
            "epoch 9, loss:14669.1328\n",
            "epoch 10, loss:14481.3242\n",
            "epoch 11, loss:14274.0020\n",
            "epoch 12, loss:14046.8955\n",
            "epoch 13, loss:13799.8252\n",
            "epoch 14, loss:13532.7070\n",
            "epoch 15, loss:13245.5576\n",
            "epoch 16, loss:12938.5088\n",
            "epoch 17, loss:12611.8252\n",
            "epoch 18, loss:12265.8984\n",
            "epoch 19, loss:11901.2607\n",
            "epoch 20, loss:11518.6016\n",
            "epoch 21, loss:11118.7676\n",
            "epoch 22, loss:10702.7783\n",
            "epoch 23, loss:10271.8154\n",
            "epoch 24, loss:9827.2510\n",
            "epoch 25, loss:9370.6348\n",
            "epoch 26, loss:8903.7051\n",
            "epoch 27, loss:8428.3857\n",
            "epoch 28, loss:7946.7861\n",
            "epoch 29, loss:7461.1963\n",
            "epoch 30, loss:6974.0820\n",
            "epoch 31, loss:6488.0664\n",
            "epoch 32, loss:6005.9268\n",
            "epoch 33, loss:5530.5601\n",
            "epoch 34, loss:5064.9678\n",
            "epoch 35, loss:4612.2178\n",
            "epoch 36, loss:4175.4087\n",
            "epoch 37, loss:3757.6189\n",
            "epoch 38, loss:3361.8518\n",
            "epoch 39, loss:2990.9727\n",
            "epoch 40, loss:2647.6340\n",
            "epoch 41, loss:2334.1936\n",
            "epoch 42, loss:2052.6284\n",
            "epoch 43, loss:1804.4399\n",
            "epoch 44, loss:1590.5648\n",
            "epoch 45, loss:1411.2874\n",
            "epoch 46, loss:1266.1656\n",
            "epoch 47, loss:1153.9843\n",
            "epoch 48, loss:1072.7334\n",
            "epoch 49, loss:1019.6348\n",
            "epoch 50, loss:991.2148\n",
            "epoch 51, loss:983.4313\n",
            "epoch 52, loss:991.8516\n",
            "epoch 53, loss:1011.8683\n",
            "epoch 54, loss:1038.9420\n",
            "epoch 55, loss:1068.8375\n",
            "epoch 56, loss:1097.8417\n",
            "epoch 57, loss:1122.9293\n",
            "epoch 58, loss:1141.8685\n",
            "epoch 59, loss:1153.2561\n",
            "epoch 60, loss:1156.4849\n",
            "epoch 61, loss:1151.6555\n",
            "epoch 62, loss:1139.4481\n",
            "epoch 63, loss:1120.9708\n",
            "epoch 64, loss:1097.6025\n",
            "epoch 65, loss:1070.8446\n",
            "epoch 66, loss:1042.1903\n",
            "epoch 67, loss:1013.0237\n",
            "epoch 68, loss:984.5418\n",
            "epoch 69, loss:957.7088\n",
            "epoch 70, loss:933.2358\n",
            "epoch 71, loss:911.5780\n",
            "epoch 72, loss:892.9549\n",
            "epoch 73, loss:877.3790\n",
            "epoch 74, loss:864.6939\n",
            "epoch 75, loss:854.6134\n",
            "epoch 76, loss:846.7641\n",
            "epoch 77, loss:840.7228\n",
            "epoch 78, loss:836.0508\n",
            "epoch 79, loss:832.3221\n",
            "epoch 80, loss:829.1448\n",
            "epoch 81, loss:826.1775\n",
            "epoch 82, loss:823.1388\n",
            "epoch 83, loss:819.8127\n",
            "epoch 84, loss:816.0476\n",
            "epoch 85, loss:811.7543\n",
            "epoch 86, loss:806.8976\n",
            "epoch 87, loss:801.4903\n",
            "epoch 88, loss:795.5823\n",
            "epoch 89, loss:789.2516\n",
            "epoch 90, loss:782.5929\n",
            "epoch 91, loss:775.7112\n",
            "epoch 92, loss:768.7113\n",
            "epoch 93, loss:761.6921\n",
            "epoch 94, loss:754.7406\n",
            "epoch 95, loss:747.9286\n",
            "epoch 96, loss:741.3107\n",
            "epoch 97, loss:734.9224\n",
            "epoch 98, loss:728.7820\n",
            "epoch 99, loss:722.8898\n"
          ]
        }
      ]
    },
    {
      "cell_type": "code",
      "source": [
        "#convert numpy to tensor\n",
        "X_test = torch.from_numpy(X_test.astype(np.float32))\n",
        "#Stop tracking the gradient by calling detach since we don't use it anymore\n",
        "y_pred = model(X_test).detach().numpy()\n",
        "\n",
        "test_error = mean_squared_error(y_test,y_pred)\n",
        "print(test_error)"
      ],
      "metadata": {
        "colab": {
          "base_uri": "https://localhost:8080/"
        },
        "id": "al-jeOSdjxtj",
        "outputId": "95c6f02a-8d6e-4508-9c75-37ab37470632"
      },
      "execution_count": null,
      "outputs": [
        {
          "output_type": "stream",
          "name": "stdout",
          "text": [
            "713.3787458617163\n"
          ]
        }
      ]
    },
    {
      "cell_type": "markdown",
      "source": [
        "Can you improve the model performance of question 7 by adjusting the number of neurons or the optimization algorithm?\n"
      ],
      "metadata": {
        "id": "jB9qxQifXH5q"
      }
    },
    {
      "cell_type": "markdown",
      "source": [
        "A larger number of neurons improves the performance."
      ],
      "metadata": {
        "id": "VCuUxKY9rCBs"
      }
    }
  ]
}